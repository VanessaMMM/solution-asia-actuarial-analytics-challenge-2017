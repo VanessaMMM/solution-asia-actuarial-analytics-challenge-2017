{
 "cells": [
  {
   "cell_type": "markdown",
   "metadata": {
    "deletable": true,
    "editable": true
   },
   "source": [
    "# A Lucky Tractor\n",
    "\n",
    "***Xiaodong DENG*** (<a href='mailto:xd.deng.r@gmail.com'>xd.deng.r@gmail.com</a>)\n",
    "\n",
    "This is one part of the 3rd ranking solution (out of 93 teams) to ***Asia Actuarial Analytics Challenge 2017*** hosted by *Singapore Actuarial Society* (https://www.kaggle.com/c/asia-actuarial-analytics-challenge-2017).\n",
    "\n",
    "\n",
    "## Environment Setting-Up"
   ]
  },
  {
   "cell_type": "code",
   "execution_count": 1,
   "metadata": {
    "collapsed": false,
    "deletable": true,
    "editable": true
   },
   "outputs": [],
   "source": [
    "from __future__ import division\n",
    "import os\n",
    "import numpy as np\n",
    "import pandas as pd\n",
    "from sklearn.metrics import confusion_matrix, auc, roc_auc_score\n",
    "import xgboost as xgb\n",
    "import time\n",
    "\n",
    "\n",
    "os.chdir(\"../\")"
   ]
  },
  {
   "cell_type": "markdown",
   "metadata": {},
   "source": [
    "## Load Data"
   ]
  },
  {
   "cell_type": "code",
   "execution_count": 2,
   "metadata": {
    "collapsed": true
   },
   "outputs": [],
   "source": [
    "# Remove CustomerID since it's not \"useful\".\n",
    "dat_train_raw =  pd.read_csv(\"data/SAS_Train_Data_v3.csv\")\n",
    "dat_train_raw = dat_train_raw[np.setdiff1d(dat_train_raw.columns, \"CustomerID\")]"
   ]
  },
  {
   "cell_type": "code",
   "execution_count": 3,
   "metadata": {
    "collapsed": false,
    "deletable": true,
    "editable": true
   },
   "outputs": [
    {
     "name": "stdout",
     "output_type": "stream",
     "text": [
      "(30000, 21)\n"
     ]
    }
   ],
   "source": [
    "print dat_train_raw.shape"
   ]
  },
  {
   "cell_type": "code",
   "execution_count": 4,
   "metadata": {
    "collapsed": false,
    "deletable": true,
    "editable": true
   },
   "outputs": [
    {
     "data": {
      "text/plain": [
       "Age                              int64\n",
       "Contact_Method                  object\n",
       "Contact_Month                   object\n",
       "Contact_WeekDay                 object\n",
       "Credit_Default                  object\n",
       "Education_Level                 object\n",
       "Emp_Var_Rate                   float64\n",
       "Euribor3m                      float64\n",
       "Housing_Loan                    object\n",
       "Job                             object\n",
       "Marital_Status                  object\n",
       "Monthly_CCI                    float64\n",
       "Monthly_CPI                    float64\n",
       "NoContacts_Current_Campaign      int64\n",
       "NoContacts_PrevCampaigns         int64\n",
       "No_Employed                    float64\n",
       "Outcome                          int64\n",
       "Pdays                            int64\n",
       "Personal_Loan                   object\n",
       "Prev_Outcome                    object\n",
       "Sex                             object\n",
       "dtype: object"
      ]
     },
     "execution_count": 4,
     "metadata": {},
     "output_type": "execute_result"
    }
   ],
   "source": [
    "dat_train_raw.dtypes"
   ]
  },
  {
   "cell_type": "code",
   "execution_count": 5,
   "metadata": {
    "collapsed": false
   },
   "outputs": [
    {
     "name": "stdout",
     "output_type": "stream",
     "text": [
      "Proportion of Positive Cases:11.95%\n"
     ]
    }
   ],
   "source": [
    "print(\"Proportion of Positive Cases:{}%\".format(round(dat_train_raw.Outcome.value_counts()[1]/dat_train_raw.shape[0] * 100, 2)))"
   ]
  },
  {
   "cell_type": "markdown",
   "metadata": {
    "deletable": true,
    "editable": true
   },
   "source": [
    "## Simple Feature Engineering"
   ]
  },
  {
   "cell_type": "code",
   "execution_count": 6,
   "metadata": {
    "collapsed": false,
    "deletable": true,
    "editable": true
   },
   "outputs": [],
   "source": [
    "dat_train_raw.loc[dat_train_raw.NoContacts_PrevCampaigns==0, 'Pdays'] = 999\n",
    "dat_train_raw.loc[dat_train_raw.NoContacts_PrevCampaigns==0, 'Prev_Outcome'] = 'nonexistent'\n",
    "dat_train_raw.loc[dat_train_raw.Pdays==999, 'Prev_Outcome'] = 'nonexistent'\n",
    "    \n",
    "\n",
    "def FUN_categorical_to_numerical(dat, feature_name, label_column_name):\n",
    "    '''\n",
    "    This function is to convert categorical features into ordered features (then numerical features).\n",
    "    We order the feature classes according to the proportion falling in outcome class 1.\n",
    "    Then we split this predictor as if it were an ordered predictor.\n",
    "    '''\n",
    "    temp = dat[[feature_name, label_column_name]].pivot_table(index=feature_name, columns=label_column_name, aggfunc=len)[[0, 1]]\n",
    "    temp['total_count'] = (temp[1] + temp[0])\n",
    "    temp['proportion_of_positive'] = (temp[1]/temp['total_count'])\n",
    "    temp = temp.sort_values(\"proportion_of_positive\")\n",
    "    temp['rank'] = range(temp.shape[0])\n",
    "    \n",
    "    mapping={}\n",
    "    for i in zip(temp.index, temp['rank']):\n",
    "        mapping[i[0]]=i[1]\n",
    "\n",
    "    return mapping\n",
    "\n",
    "\n",
    "# List the categorical variables\n",
    "variables_to_encode = dat_train_raw.columns[dat_train_raw.dtypes==\"object\"]\n",
    "\n",
    "# Note: the splitting mapping should be derived based on Train data and to be used on both Train and Test data.\n",
    "for j in variables_to_encode:\n",
    "    transform_mapping = FUN_categorical_to_numerical(dat_train_raw, j, \"Outcome\")\n",
    "    dat_train_raw[j] = dat_train_raw[j].map(transform_mapping)"
   ]
  },
  {
   "cell_type": "code",
   "execution_count": 7,
   "metadata": {
    "collapsed": false
   },
   "outputs": [
    {
     "data": {
      "text/html": [
       "<div>\n",
       "<table border=\"1\" class=\"dataframe\">\n",
       "  <thead>\n",
       "    <tr style=\"text-align: right;\">\n",
       "      <th></th>\n",
       "      <th>Age</th>\n",
       "      <th>Contact_Method</th>\n",
       "      <th>Contact_Month</th>\n",
       "      <th>Contact_WeekDay</th>\n",
       "      <th>Credit_Default</th>\n",
       "      <th>Education_Level</th>\n",
       "      <th>Emp_Var_Rate</th>\n",
       "      <th>Euribor3m</th>\n",
       "      <th>Housing_Loan</th>\n",
       "      <th>Job</th>\n",
       "      <th>...</th>\n",
       "      <th>Monthly_CCI</th>\n",
       "      <th>Monthly_CPI</th>\n",
       "      <th>NoContacts_Current_Campaign</th>\n",
       "      <th>NoContacts_PrevCampaigns</th>\n",
       "      <th>No_Employed</th>\n",
       "      <th>Outcome</th>\n",
       "      <th>Pdays</th>\n",
       "      <th>Personal_Loan</th>\n",
       "      <th>Prev_Outcome</th>\n",
       "      <th>Sex</th>\n",
       "    </tr>\n",
       "  </thead>\n",
       "  <tbody>\n",
       "    <tr>\n",
       "      <th>0</th>\n",
       "      <td>49</td>\n",
       "      <td>0</td>\n",
       "      <td>0</td>\n",
       "      <td>4</td>\n",
       "      <td>1</td>\n",
       "      <td>0</td>\n",
       "      <td>1.1</td>\n",
       "      <td>4.857</td>\n",
       "      <td>1</td>\n",
       "      <td>1</td>\n",
       "      <td>...</td>\n",
       "      <td>-36.4</td>\n",
       "      <td>93.994</td>\n",
       "      <td>2</td>\n",
       "      <td>0</td>\n",
       "      <td>5191.0</td>\n",
       "      <td>0</td>\n",
       "      <td>999</td>\n",
       "      <td>1</td>\n",
       "      <td>0</td>\n",
       "      <td>0</td>\n",
       "    </tr>\n",
       "    <tr>\n",
       "      <th>1</th>\n",
       "      <td>44</td>\n",
       "      <td>1</td>\n",
       "      <td>1</td>\n",
       "      <td>0</td>\n",
       "      <td>1</td>\n",
       "      <td>2</td>\n",
       "      <td>1.4</td>\n",
       "      <td>4.958</td>\n",
       "      <td>1</td>\n",
       "      <td>4</td>\n",
       "      <td>...</td>\n",
       "      <td>-42.7</td>\n",
       "      <td>93.918</td>\n",
       "      <td>4</td>\n",
       "      <td>0</td>\n",
       "      <td>5228.1</td>\n",
       "      <td>0</td>\n",
       "      <td>999</td>\n",
       "      <td>1</td>\n",
       "      <td>0</td>\n",
       "      <td>0</td>\n",
       "    </tr>\n",
       "    <tr>\n",
       "      <th>2</th>\n",
       "      <td>40</td>\n",
       "      <td>0</td>\n",
       "      <td>0</td>\n",
       "      <td>3</td>\n",
       "      <td>1</td>\n",
       "      <td>0</td>\n",
       "      <td>1.1</td>\n",
       "      <td>4.857</td>\n",
       "      <td>2</td>\n",
       "      <td>1</td>\n",
       "      <td>...</td>\n",
       "      <td>-36.4</td>\n",
       "      <td>93.994</td>\n",
       "      <td>1</td>\n",
       "      <td>0</td>\n",
       "      <td>5191.0</td>\n",
       "      <td>0</td>\n",
       "      <td>999</td>\n",
       "      <td>1</td>\n",
       "      <td>0</td>\n",
       "      <td>0</td>\n",
       "    </tr>\n",
       "    <tr>\n",
       "      <th>3</th>\n",
       "      <td>48</td>\n",
       "      <td>0</td>\n",
       "      <td>0</td>\n",
       "      <td>3</td>\n",
       "      <td>1</td>\n",
       "      <td>0</td>\n",
       "      <td>1.1</td>\n",
       "      <td>4.856</td>\n",
       "      <td>2</td>\n",
       "      <td>3</td>\n",
       "      <td>...</td>\n",
       "      <td>-36.4</td>\n",
       "      <td>93.994</td>\n",
       "      <td>1</td>\n",
       "      <td>0</td>\n",
       "      <td>5191.0</td>\n",
       "      <td>0</td>\n",
       "      <td>999</td>\n",
       "      <td>1</td>\n",
       "      <td>0</td>\n",
       "      <td>1</td>\n",
       "    </tr>\n",
       "    <tr>\n",
       "      <th>4</th>\n",
       "      <td>34</td>\n",
       "      <td>1</td>\n",
       "      <td>0</td>\n",
       "      <td>2</td>\n",
       "      <td>1</td>\n",
       "      <td>3</td>\n",
       "      <td>-1.8</td>\n",
       "      <td>1.291</td>\n",
       "      <td>1</td>\n",
       "      <td>1</td>\n",
       "      <td>...</td>\n",
       "      <td>-46.2</td>\n",
       "      <td>92.893</td>\n",
       "      <td>1</td>\n",
       "      <td>0</td>\n",
       "      <td>5099.1</td>\n",
       "      <td>0</td>\n",
       "      <td>999</td>\n",
       "      <td>1</td>\n",
       "      <td>0</td>\n",
       "      <td>1</td>\n",
       "    </tr>\n",
       "  </tbody>\n",
       "</table>\n",
       "<p>5 rows × 21 columns</p>\n",
       "</div>"
      ],
      "text/plain": [
       "   Age  Contact_Method  Contact_Month  Contact_WeekDay  Credit_Default  \\\n",
       "0   49               0              0                4               1   \n",
       "1   44               1              1                0               1   \n",
       "2   40               0              0                3               1   \n",
       "3   48               0              0                3               1   \n",
       "4   34               1              0                2               1   \n",
       "\n",
       "   Education_Level  Emp_Var_Rate  Euribor3m  Housing_Loan  Job ...   \\\n",
       "0                0           1.1      4.857             1    1 ...    \n",
       "1                2           1.4      4.958             1    4 ...    \n",
       "2                0           1.1      4.857             2    1 ...    \n",
       "3                0           1.1      4.856             2    3 ...    \n",
       "4                3          -1.8      1.291             1    1 ...    \n",
       "\n",
       "   Monthly_CCI  Monthly_CPI  NoContacts_Current_Campaign  \\\n",
       "0        -36.4       93.994                            2   \n",
       "1        -42.7       93.918                            4   \n",
       "2        -36.4       93.994                            1   \n",
       "3        -36.4       93.994                            1   \n",
       "4        -46.2       92.893                            1   \n",
       "\n",
       "   NoContacts_PrevCampaigns  No_Employed  Outcome  Pdays  Personal_Loan  \\\n",
       "0                         0       5191.0        0    999              1   \n",
       "1                         0       5228.1        0    999              1   \n",
       "2                         0       5191.0        0    999              1   \n",
       "3                         0       5191.0        0    999              1   \n",
       "4                         0       5099.1        0    999              1   \n",
       "\n",
       "   Prev_Outcome  Sex  \n",
       "0             0    0  \n",
       "1             0    0  \n",
       "2             0    0  \n",
       "3             0    1  \n",
       "4             0    1  \n",
       "\n",
       "[5 rows x 21 columns]"
      ]
     },
     "execution_count": 7,
     "metadata": {},
     "output_type": "execute_result"
    }
   ],
   "source": [
    "dat_train_raw.head()"
   ]
  },
  {
   "cell_type": "code",
   "execution_count": 8,
   "metadata": {
    "collapsed": false
   },
   "outputs": [
    {
     "data": {
      "text/plain": [
       "(30000, 21)"
      ]
     },
     "execution_count": 8,
     "metadata": {},
     "output_type": "execute_result"
    }
   ],
   "source": [
    "dat_train_raw.shape"
   ]
  },
  {
   "cell_type": "markdown",
   "metadata": {},
   "source": [
    "## Tune the model"
   ]
  },
  {
   "cell_type": "code",
   "execution_count": 9,
   "metadata": {
    "collapsed": true
   },
   "outputs": [],
   "source": [
    "feature_columns = np.setdiff1d(dat_train_raw.columns, \"Outcome\")\n",
    "temp_dtrain = xgb.DMatrix(dat_train_raw[feature_columns], label=dat_train_raw.Outcome)"
   ]
  },
  {
   "cell_type": "code",
   "execution_count": 10,
   "metadata": {
    "collapsed": true
   },
   "outputs": [],
   "source": [
    "cv_config = {}\n",
    "\n",
    "cv_config['nfold'] = 5\n",
    "cv_config[\"early_stopping_rounds\"]=300\n",
    "cv_config['num_boost_round'] = 10000"
   ]
  },
  {
   "cell_type": "code",
   "execution_count": 11,
   "metadata": {
    "collapsed": true
   },
   "outputs": [],
   "source": [
    "# initialize a hyperparameter set. It will be updated item by item later\n",
    "final_param = {'objective':\"binary:logistic\",\n",
    "                'eval_metric':'auc',\n",
    "                \"booster\":\"gbtree\", \n",
    "                'eta':0.1,\n",
    "                'max_depth':6,\n",
    "                'subsample':1,\n",
    "                'gamma':0,\n",
    "                'colsample_bylevel':1}"
   ]
  },
  {
   "cell_type": "code",
   "execution_count": 12,
   "metadata": {
    "collapsed": false
   },
   "outputs": [],
   "source": [
    "candidates = {\"eta\":[0.1, 0.05, 0.01, 0.005], \n",
    "              \"max_depth\": [5, 6, 7],\n",
    "              \"subsample\": [0.6, 0.8, 1],\n",
    "              \"gamma\": [0, 0.1, 0.2],\n",
    "              \"colsample_bylevel\": [0.3, 0.8, 1],\n",
    "              \"scale_pos_weight\": [1, 2, 3]}"
   ]
  },
  {
   "cell_type": "code",
   "execution_count": 13,
   "metadata": {
    "collapsed": false
   },
   "outputs": [
    {
     "name": "stdout",
     "output_type": "stream",
     "text": [
      "\n",
      "===== Round 1 =====\n",
      "\n",
      "=== Tuning eta ===\n",
      "Value: 0.1; test-auc-mean: 0.8003388; iteration: 47\n",
      "Value: 0.05; test-auc-mean: 0.8000456; iteration: 111\n",
      "Value: 0.01; test-auc-mean: 0.7998802; iteration: 541\n",
      "Value: 0.005; test-auc-mean: 0.7997848; iteration: 1073\n",
      "{'subsample': 1, 'eta': 0.1, 'eval_metric': 'auc', 'colsample_bylevel': 1, 'objective': 'binary:logistic', 'max_depth': 6, 'gamma': 0, 'booster': 'gbtree'}\n",
      "\n",
      "=== Tuning max_depth ===\n",
      "Value: 5; test-auc-mean: 0.8008888; iteration: 80\n",
      "Value: 6; test-auc-mean: 0.8003388; iteration: 47\n",
      "Value: 7; test-auc-mean: 0.7986644; iteration: 52\n",
      "{'subsample': 1, 'eta': 0.1, 'eval_metric': 'auc', 'colsample_bylevel': 1, 'objective': 'binary:logistic', 'max_depth': 5, 'gamma': 0, 'booster': 'gbtree'}\n",
      "\n",
      "=== Tuning subsample ===\n",
      "Value: 0.6; test-auc-mean: 0.799717; iteration: 53\n",
      "Value: 0.8; test-auc-mean: 0.8009348; iteration: 64\n",
      "Value: 1; test-auc-mean: 0.8008888; iteration: 80\n",
      "{'subsample': 0.8, 'eta': 0.1, 'eval_metric': 'auc', 'colsample_bylevel': 1, 'objective': 'binary:logistic', 'max_depth': 5, 'gamma': 0, 'booster': 'gbtree'}\n",
      "\n",
      "=== Tuning gamma ===\n",
      "Value: 0; test-auc-mean: 0.8009348; iteration: 64\n",
      "Value: 0.1; test-auc-mean: 0.800614; iteration: 53\n",
      "Value: 0.2; test-auc-mean: 0.8005644; iteration: 101\n",
      "{'subsample': 0.8, 'eta': 0.1, 'eval_metric': 'auc', 'colsample_bylevel': 1, 'objective': 'binary:logistic', 'max_depth': 5, 'gamma': 0, 'booster': 'gbtree'}\n",
      "\n",
      "=== Tuning colsample_bylevel ===\n",
      "Value: 0.3; test-auc-mean: 0.8003238; iteration: 70\n",
      "Value: 0.8; test-auc-mean: 0.8016588; iteration: 80\n",
      "Value: 1; test-auc-mean: 0.8009348; iteration: 64\n",
      "{'subsample': 0.8, 'eta': 0.1, 'eval_metric': 'auc', 'colsample_bylevel': 0.8, 'objective': 'binary:logistic', 'max_depth': 5, 'gamma': 0, 'booster': 'gbtree'}\n",
      "\n",
      "=== Tuning scale_pos_weight ===\n",
      "Value: 1; test-auc-mean: 0.8016588; iteration: 80\n",
      "Value: 2; test-auc-mean: 0.8005922; iteration: 69\n",
      "Value: 3; test-auc-mean: 0.8015388; iteration: 67\n",
      "{'subsample': 0.8, 'eta': 0.1, 'eval_metric': 'auc', 'colsample_bylevel': 0.8, 'objective': 'binary:logistic', 'scale_pos_weight': 1, 'max_depth': 5, 'gamma': 0, 'booster': 'gbtree'}\n",
      "\n",
      "===== Round 2 =====\n",
      "\n",
      "=== Tuning eta ===\n",
      "Value: 0.1; test-auc-mean: 0.8016588; iteration: 80\n",
      "Value: 0.05; test-auc-mean: 0.8019172; iteration: 184\n",
      "Value: 0.01; test-auc-mean: 0.8026458; iteration: 677\n",
      "Value: 0.005; test-auc-mean: 0.8021916; iteration: 1279\n",
      "{'subsample': 0.8, 'eta': 0.01, 'eval_metric': 'auc', 'colsample_bylevel': 0.8, 'objective': 'binary:logistic', 'scale_pos_weight': 1, 'max_depth': 5, 'gamma': 0, 'booster': 'gbtree'}\n",
      "\n",
      "=== Tuning max_depth ===\n",
      "Value: 5; test-auc-mean: 0.8026458; iteration: 677\n",
      "Value: 6; test-auc-mean: 0.8021112; iteration: 545\n",
      "Value: 7; test-auc-mean: 0.801368; iteration: 502\n",
      "{'subsample': 0.8, 'eta': 0.01, 'eval_metric': 'auc', 'colsample_bylevel': 0.8, 'objective': 'binary:logistic', 'scale_pos_weight': 1, 'max_depth': 5, 'gamma': 0, 'booster': 'gbtree'}\n",
      "\n",
      "=== Tuning subsample ===\n",
      "Value: 0.6; test-auc-mean: 0.8021638; iteration: 682\n",
      "Value: 0.8; test-auc-mean: 0.8026458; iteration: 677\n",
      "Value: 1; test-auc-mean: 0.8014812; iteration: 644\n",
      "{'subsample': 0.8, 'eta': 0.01, 'eval_metric': 'auc', 'colsample_bylevel': 0.8, 'objective': 'binary:logistic', 'scale_pos_weight': 1, 'max_depth': 5, 'gamma': 0, 'booster': 'gbtree'}\n",
      "\n",
      "=== Tuning gamma ===\n",
      "Value: 0; test-auc-mean: 0.8026458; iteration: 677\n",
      "Value: 0.1; test-auc-mean: 0.8026844; iteration: 678\n",
      "Value: 0.2; test-auc-mean: 0.80257; iteration: 678\n",
      "{'subsample': 0.8, 'eta': 0.01, 'eval_metric': 'auc', 'colsample_bylevel': 0.8, 'objective': 'binary:logistic', 'scale_pos_weight': 1, 'max_depth': 5, 'gamma': 0.1, 'booster': 'gbtree'}\n",
      "\n",
      "=== Tuning colsample_bylevel ===\n",
      "Value: 0.3; test-auc-mean: 0.802788; iteration: 838\n",
      "Value: 0.8; test-auc-mean: 0.8026844; iteration: 678\n",
      "Value: 1; test-auc-mean: 0.8021826; iteration: 604\n",
      "{'subsample': 0.8, 'eta': 0.01, 'eval_metric': 'auc', 'colsample_bylevel': 0.3, 'objective': 'binary:logistic', 'scale_pos_weight': 1, 'max_depth': 5, 'gamma': 0.1, 'booster': 'gbtree'}\n",
      "\n",
      "=== Tuning scale_pos_weight ===\n",
      "Value: 1; test-auc-mean: 0.802788; iteration: 838\n",
      "Value: 2; test-auc-mean: 0.8023548; iteration: 838\n",
      "Value: 3; test-auc-mean: 0.8020606; iteration: 771\n",
      "{'subsample': 0.8, 'eta': 0.01, 'eval_metric': 'auc', 'colsample_bylevel': 0.3, 'objective': 'binary:logistic', 'scale_pos_weight': 1, 'max_depth': 5, 'gamma': 0.1, 'booster': 'gbtree'}\n"
     ]
    }
   ],
   "source": [
    "time_tuning_start = time.time()\n",
    "\n",
    "for r in range(2):\n",
    "    \n",
    "    print(\"\\n===== Round {} =====\".format(r+1))\n",
    "    \n",
    "    for c in ['eta', 'max_depth', 'subsample', 'gamma', 'colsample_bylevel', 'scale_pos_weight']:\n",
    "\n",
    "        temp_metric = 0\n",
    "        param = final_param.copy()\n",
    "\n",
    "        print(\"\\n=== Tuning {} ===\".format(c))\n",
    "\n",
    "        for i in candidates[c]:\n",
    "\n",
    "            param[c] = i\n",
    "\n",
    "            bst_cv = xgb.cv(param, dtrain=temp_dtrain, nfold=cv_config['nfold'],\n",
    "                            early_stopping_rounds= cv_config[\"early_stopping_rounds\"],\n",
    "                            num_boost_round= cv_config['num_boost_round'])\n",
    "            print(\"Value: {}; test-auc-mean: {}; iteration: {}\".format(i, bst_cv['test-auc-mean'].max(), bst_cv.shape[0]))\n",
    "\n",
    "            if bst_cv['test-auc-mean'].max() >= temp_metric:\n",
    "                final_param[c] = i\n",
    "                temp_metric = bst_cv['test-auc-mean'].max()\n",
    "\n",
    "        print(final_param)\n",
    "    \n",
    "time_tuning_end = time.time()"
   ]
  },
  {
   "cell_type": "code",
   "execution_count": 14,
   "metadata": {
    "collapsed": false
   },
   "outputs": [
    {
     "name": "stdout",
     "output_type": "stream",
     "text": [
      "Tuning Costs 1870 seconds\n"
     ]
    }
   ],
   "source": [
    "print(\"Tuning Costs {} seconds\".format(int(time_tuning_end - time_tuning_start)))"
   ]
  }
 ],
 "metadata": {
  "anaconda-cloud": {},
  "kernelspec": {
   "display_name": "Python 2",
   "language": "python",
   "name": "python2"
  },
  "language_info": {
   "codemirror_mode": {
    "name": "ipython",
    "version": 2
   },
   "file_extension": ".py",
   "mimetype": "text/x-python",
   "name": "python",
   "nbconvert_exporter": "python",
   "pygments_lexer": "ipython2",
   "version": "2.7.13"
  }
 },
 "nbformat": 4,
 "nbformat_minor": 1
}
