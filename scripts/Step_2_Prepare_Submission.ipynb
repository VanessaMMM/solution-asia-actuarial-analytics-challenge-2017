{
 "cells": [
  {
   "cell_type": "markdown",
   "metadata": {},
   "source": [
    "# A Lucky Tractor\n",
    "\n",
    "***Xiaodong DENG*** (<a href='mailto:xd.deng.r@gmail.com'>xd.deng.r@gmail.com</a>)\n",
    "\n",
    "This is one part of the 3rd ranking solution (out of 93 teams) to ***Asia Actuarial Analytics Challenge 2017*** hosted by *Singapore Actuarial Society* (https://www.kaggle.com/c/asia-actuarial-analytics-challenge-2017).\n",
    "\n",
    "\n",
    "## Environment Setting-Up"
   ]
  },
  {
   "cell_type": "code",
   "execution_count": 1,
   "metadata": {
    "collapsed": false
   },
   "outputs": [],
   "source": [
    "from __future__ import division\n",
    "import os\n",
    "import numpy as np\n",
    "import pandas as pd\n",
    "import matplotlib.pyplot as plt\n",
    "import seaborn as sns\n",
    "import random\n",
    "import xgboost as xgb\n",
    "\n",
    "%matplotlib inline\n",
    "\n",
    "np.random.seed(1000)\n",
    "\n",
    "os.chdir(\"../\")"
   ]
  },
  {
   "cell_type": "markdown",
   "metadata": {},
   "source": [
    "## Load Data"
   ]
  },
  {
   "cell_type": "code",
   "execution_count": 2,
   "metadata": {
    "collapsed": false
   },
   "outputs": [
    {
     "name": "stdout",
     "output_type": "stream",
     "text": [
      "(30000, 21)\n",
      "(11186, 21)\n"
     ]
    }
   ],
   "source": [
    "# Remove CustomerID since it's not \"useful\".\n",
    "dat_train_raw =  pd.read_csv(\"data/SAS_Train_Data_v3.csv\")\n",
    "dat_train_raw = dat_train_raw[np.setdiff1d(dat_train_raw.columns, \"CustomerID\")]\n",
    "\n",
    "dat_test_raw =  pd.read_csv(\"data/SAS_Test_Data_v3.csv\")\n",
    "list_test_customer_id = dat_test_raw.CustomerID\n",
    "dat_test_raw = dat_test_raw[np.setdiff1d(dat_test_raw.columns, \"CustomerID\")]\n",
    "\n",
    "print dat_train_raw.shape\n",
    "print dat_test_raw.shape"
   ]
  },
  {
   "cell_type": "markdown",
   "metadata": {},
   "source": [
    "## Simple Feature Transformation"
   ]
  },
  {
   "cell_type": "code",
   "execution_count": 3,
   "metadata": {
    "collapsed": false
   },
   "outputs": [],
   "source": [
    "# Address a few data \"issues\"\n",
    "\n",
    "dat_train_raw.loc[dat_train_raw.NoContacts_PrevCampaigns==0, 'Pdays'] = 999\n",
    "dat_train_raw.loc[dat_train_raw.NoContacts_PrevCampaigns==0, 'Prev_Outcome'] = 'nonexistent'\n",
    "dat_train_raw.loc[dat_train_raw.Pdays==999, 'Prev_Outcome'] = 'nonexistent'\n",
    "\n",
    "dat_test_raw.loc[dat_test_raw.NoContacts_PrevCampaigns==0, 'Pdays'] = 999\n",
    "dat_test_raw.loc[dat_test_raw.NoContacts_PrevCampaigns==0, 'Prev_Outcome'] = 'nonexistent'\n",
    "dat_test_raw.loc[dat_test_raw.Pdays==999, 'Prev_Outcome'] = 'nonexistent'\n",
    "    \n",
    "    \n",
    "\n",
    "def FUN_categorical_to_numerical(dat, feature_name, label_column_name):\n",
    "    '''\n",
    "    This function is to convert categorical features into ordered features (then numerical features).\n",
    "    We order the feature classes according to the proportion falling in outcome class 1.\n",
    "    Then we split this predictor as if it were an ordered predictor.\n",
    "    '''\n",
    "    temp = dat[[feature_name, label_column_name]].pivot_table(index=feature_name, columns=label_column_name, aggfunc=len)[[0, 1]]\n",
    "    temp['total_count'] = (temp[1] + temp[0])\n",
    "    temp['proportion_of_positive'] = (temp[1]/temp['total_count'])\n",
    "    temp = temp.sort_values(\"proportion_of_positive\")\n",
    "    temp['rank'] = range(temp.shape[0])\n",
    "    \n",
    "    mapping={}\n",
    "    for i in zip(temp.index, temp['rank']):\n",
    "        mapping[i[0]]=i[1]\n",
    "\n",
    "    return mapping\n",
    "\n",
    "\n",
    "# List the categorical variables\n",
    "variables_to_encode = dat_train_raw.columns[dat_train_raw.dtypes==\"object\"]\n",
    "\n",
    "# Note: the splitting mapping should be derived based on Train data and to be used on both Train and Test data.\n",
    "for j in variables_to_encode:\n",
    "    transform_mapping = FUN_categorical_to_numerical(dat_train_raw, j, \"Outcome\")\n",
    "    dat_train_raw[j] = dat_train_raw[j].map(transform_mapping)\n",
    "    dat_test_raw[j] = dat_test_raw[j].map(transform_mapping)"
   ]
  },
  {
   "cell_type": "code",
   "execution_count": 4,
   "metadata": {
    "collapsed": false
   },
   "outputs": [
    {
     "data": {
      "text/html": [
       "<div>\n",
       "<style>\n",
       "    .dataframe thead tr:only-child th {\n",
       "        text-align: right;\n",
       "    }\n",
       "\n",
       "    .dataframe thead th {\n",
       "        text-align: left;\n",
       "    }\n",
       "\n",
       "    .dataframe tbody tr th {\n",
       "        vertical-align: top;\n",
       "    }\n",
       "</style>\n",
       "<table border=\"1\" class=\"dataframe\">\n",
       "  <thead>\n",
       "    <tr style=\"text-align: right;\">\n",
       "      <th></th>\n",
       "      <th>Age</th>\n",
       "      <th>Contact_Method</th>\n",
       "      <th>Contact_Month</th>\n",
       "      <th>Contact_WeekDay</th>\n",
       "      <th>Credit_Default</th>\n",
       "      <th>Education_Level</th>\n",
       "      <th>Emp_Var_Rate</th>\n",
       "      <th>Euribor3m</th>\n",
       "      <th>Housing_Loan</th>\n",
       "      <th>Job</th>\n",
       "      <th>...</th>\n",
       "      <th>Monthly_CCI</th>\n",
       "      <th>Monthly_CPI</th>\n",
       "      <th>NoContacts_Current_Campaign</th>\n",
       "      <th>NoContacts_PrevCampaigns</th>\n",
       "      <th>No_Employed</th>\n",
       "      <th>Outcome</th>\n",
       "      <th>Pdays</th>\n",
       "      <th>Personal_Loan</th>\n",
       "      <th>Prev_Outcome</th>\n",
       "      <th>Sex</th>\n",
       "    </tr>\n",
       "  </thead>\n",
       "  <tbody>\n",
       "    <tr>\n",
       "      <th>0</th>\n",
       "      <td>34</td>\n",
       "      <td>1</td>\n",
       "      <td>6</td>\n",
       "      <td>3</td>\n",
       "      <td>1</td>\n",
       "      <td>5</td>\n",
       "      <td>-1.8</td>\n",
       "      <td>1.250</td>\n",
       "      <td>1</td>\n",
       "      <td>9</td>\n",
       "      <td>...</td>\n",
       "      <td>-46.2</td>\n",
       "      <td>92.893</td>\n",
       "      <td>2</td>\n",
       "      <td>0</td>\n",
       "      <td>5099.1</td>\n",
       "      <td>0</td>\n",
       "      <td>999</td>\n",
       "      <td>1</td>\n",
       "      <td>0</td>\n",
       "      <td>0</td>\n",
       "    </tr>\n",
       "    <tr>\n",
       "      <th>1</th>\n",
       "      <td>55</td>\n",
       "      <td>1</td>\n",
       "      <td>2</td>\n",
       "      <td>1</td>\n",
       "      <td>0</td>\n",
       "      <td>4</td>\n",
       "      <td>1.4</td>\n",
       "      <td>4.963</td>\n",
       "      <td>1</td>\n",
       "      <td>1</td>\n",
       "      <td>...</td>\n",
       "      <td>-36.1</td>\n",
       "      <td>93.444</td>\n",
       "      <td>2</td>\n",
       "      <td>0</td>\n",
       "      <td>5228.1</td>\n",
       "      <td>0</td>\n",
       "      <td>999</td>\n",
       "      <td>1</td>\n",
       "      <td>0</td>\n",
       "      <td>0</td>\n",
       "    </tr>\n",
       "    <tr>\n",
       "      <th>2</th>\n",
       "      <td>53</td>\n",
       "      <td>0</td>\n",
       "      <td>0</td>\n",
       "      <td>3</td>\n",
       "      <td>1</td>\n",
       "      <td>5</td>\n",
       "      <td>1.1</td>\n",
       "      <td>4.856</td>\n",
       "      <td>1</td>\n",
       "      <td>9</td>\n",
       "      <td>...</td>\n",
       "      <td>-36.4</td>\n",
       "      <td>93.994</td>\n",
       "      <td>1</td>\n",
       "      <td>0</td>\n",
       "      <td>5191.0</td>\n",
       "      <td>0</td>\n",
       "      <td>999</td>\n",
       "      <td>2</td>\n",
       "      <td>0</td>\n",
       "      <td>0</td>\n",
       "    </tr>\n",
       "    <tr>\n",
       "      <th>3</th>\n",
       "      <td>32</td>\n",
       "      <td>1</td>\n",
       "      <td>0</td>\n",
       "      <td>3</td>\n",
       "      <td>1</td>\n",
       "      <td>3</td>\n",
       "      <td>-1.8</td>\n",
       "      <td>1.244</td>\n",
       "      <td>1</td>\n",
       "      <td>0</td>\n",
       "      <td>...</td>\n",
       "      <td>-46.2</td>\n",
       "      <td>92.893</td>\n",
       "      <td>4</td>\n",
       "      <td>1</td>\n",
       "      <td>5099.1</td>\n",
       "      <td>0</td>\n",
       "      <td>999</td>\n",
       "      <td>1</td>\n",
       "      <td>0</td>\n",
       "      <td>0</td>\n",
       "    </tr>\n",
       "    <tr>\n",
       "      <th>4</th>\n",
       "      <td>56</td>\n",
       "      <td>0</td>\n",
       "      <td>8</td>\n",
       "      <td>0</td>\n",
       "      <td>1</td>\n",
       "      <td>4</td>\n",
       "      <td>-0.1</td>\n",
       "      <td>4.153</td>\n",
       "      <td>2</td>\n",
       "      <td>10</td>\n",
       "      <td>...</td>\n",
       "      <td>-42.0</td>\n",
       "      <td>93.200</td>\n",
       "      <td>1</td>\n",
       "      <td>0</td>\n",
       "      <td>5195.8</td>\n",
       "      <td>0</td>\n",
       "      <td>999</td>\n",
       "      <td>1</td>\n",
       "      <td>0</td>\n",
       "      <td>1</td>\n",
       "    </tr>\n",
       "  </tbody>\n",
       "</table>\n",
       "<p>5 rows × 21 columns</p>\n",
       "</div>"
      ],
      "text/plain": [
       "   Age  Contact_Method  Contact_Month  Contact_WeekDay  Credit_Default  \\\n",
       "0   34               1              6                3               1   \n",
       "1   55               1              2                1               0   \n",
       "2   53               0              0                3               1   \n",
       "3   32               1              0                3               1   \n",
       "4   56               0              8                0               1   \n",
       "\n",
       "   Education_Level  Emp_Var_Rate  Euribor3m  Housing_Loan  Job ...   \\\n",
       "0                5          -1.8      1.250             1    9 ...    \n",
       "1                4           1.4      4.963             1    1 ...    \n",
       "2                5           1.1      4.856             1    9 ...    \n",
       "3                3          -1.8      1.244             1    0 ...    \n",
       "4                4          -0.1      4.153             2   10 ...    \n",
       "\n",
       "   Monthly_CCI  Monthly_CPI  NoContacts_Current_Campaign  \\\n",
       "0        -46.2       92.893                            2   \n",
       "1        -36.1       93.444                            2   \n",
       "2        -36.4       93.994                            1   \n",
       "3        -46.2       92.893                            4   \n",
       "4        -42.0       93.200                            1   \n",
       "\n",
       "   NoContacts_PrevCampaigns  No_Employed  Outcome  Pdays  Personal_Loan  \\\n",
       "0                         0       5099.1        0    999              1   \n",
       "1                         0       5228.1        0    999              1   \n",
       "2                         0       5191.0        0    999              2   \n",
       "3                         1       5099.1        0    999              1   \n",
       "4                         0       5195.8        0    999              1   \n",
       "\n",
       "   Prev_Outcome  Sex  \n",
       "0             0    0  \n",
       "1             0    0  \n",
       "2             0    0  \n",
       "3             0    0  \n",
       "4             0    1  \n",
       "\n",
       "[5 rows x 21 columns]"
      ]
     },
     "execution_count": 4,
     "metadata": {},
     "output_type": "execute_result"
    }
   ],
   "source": [
    "dat_test_raw.head()"
   ]
  },
  {
   "cell_type": "markdown",
   "metadata": {},
   "source": [
    "## Training Model"
   ]
  },
  {
   "cell_type": "code",
   "execution_count": 5,
   "metadata": {
    "collapsed": true
   },
   "outputs": [],
   "source": [
    "feature_columns = np.setdiff1d(dat_train_raw.columns, \"Outcome\")"
   ]
  },
  {
   "cell_type": "code",
   "execution_count": 6,
   "metadata": {
    "collapsed": false
   },
   "outputs": [],
   "source": [
    "dtrain = xgb.DMatrix(dat_train_raw[feature_columns], label = dat_train_raw.Outcome)\n",
    "dtest = xgb.DMatrix(dat_test_raw[feature_columns])\n",
    "\n",
    "final_params = {'objective':\"binary:logistic\",\n",
    "                'eta':0.03,\n",
    "                'max_depth':6,\n",
    "                'subsample':0.6,\n",
    "                'colsample_bylevel':0.9,\n",
    "                'eval_metric':'auc'}\n",
    "\n",
    "bst = xgb.train(final_params, dtrain, num_boost_round=200)"
   ]
  },
  {
   "cell_type": "markdown",
   "metadata": {},
   "source": [
    "## Making Prediction"
   ]
  },
  {
   "cell_type": "code",
   "execution_count": 7,
   "metadata": {
    "collapsed": false
   },
   "outputs": [
    {
     "data": {
      "text/html": [
       "<div>\n",
       "<style>\n",
       "    .dataframe thead tr:only-child th {\n",
       "        text-align: right;\n",
       "    }\n",
       "\n",
       "    .dataframe thead th {\n",
       "        text-align: left;\n",
       "    }\n",
       "\n",
       "    .dataframe tbody tr th {\n",
       "        vertical-align: top;\n",
       "    }\n",
       "</style>\n",
       "<table border=\"1\" class=\"dataframe\">\n",
       "  <thead>\n",
       "    <tr style=\"text-align: right;\">\n",
       "      <th></th>\n",
       "      <th>CustomerId</th>\n",
       "      <th>Outcome</th>\n",
       "    </tr>\n",
       "  </thead>\n",
       "  <tbody>\n",
       "    <tr>\n",
       "      <th>0</th>\n",
       "      <td>xlt431ux</td>\n",
       "      <td>0.217607</td>\n",
       "    </tr>\n",
       "    <tr>\n",
       "      <th>1</th>\n",
       "      <td>tmm599cn</td>\n",
       "      <td>0.041143</td>\n",
       "    </tr>\n",
       "    <tr>\n",
       "      <th>2</th>\n",
       "      <td>ijg236uf</td>\n",
       "      <td>0.032244</td>\n",
       "    </tr>\n",
       "    <tr>\n",
       "      <th>3</th>\n",
       "      <td>xqe861ux</td>\n",
       "      <td>0.139725</td>\n",
       "    </tr>\n",
       "    <tr>\n",
       "      <th>4</th>\n",
       "      <td>sfa266vj</td>\n",
       "      <td>0.140414</td>\n",
       "    </tr>\n",
       "  </tbody>\n",
       "</table>\n",
       "</div>"
      ],
      "text/plain": [
       "  CustomerId   Outcome\n",
       "0   xlt431ux  0.217607\n",
       "1   tmm599cn  0.041143\n",
       "2   ijg236uf  0.032244\n",
       "3   xqe861ux  0.139725\n",
       "4   sfa266vj  0.140414"
      ]
     },
     "execution_count": 7,
     "metadata": {},
     "output_type": "execute_result"
    }
   ],
   "source": [
    "result = bst.predict(dtest)\n",
    "\n",
    "to_submit = pd.DataFrame({\"CustomerId\":list_test_customer_id,\n",
    "                          \"Outcome\":result})\n",
    "to_submit.head()"
   ]
  },
  {
   "cell_type": "code",
   "execution_count": 8,
   "metadata": {
    "collapsed": false
   },
   "outputs": [
    {
     "data": {
      "text/plain": [
       "<matplotlib.axes._subplots.AxesSubplot at 0x116558110>"
      ]
     },
     "execution_count": 8,
     "metadata": {},
     "output_type": "execute_result"
    },
    {
     "data": {
      "image/png": "[encoded data removed]",
      "text/plain": [
       "<matplotlib.figure.Figure at 0x116558890>"
      ]
     },
     "metadata": {},
     "output_type": "display_data"
    }
   ],
   "source": [
    "plt.figure(figsize=(14,5))\n",
    "sns.distplot(to_submit.Outcome)"
   ]
  },
  {
   "cell_type": "code",
   "execution_count": 9,
   "metadata": {
    "collapsed": true
   },
   "outputs": [],
   "source": [
    "# to_submit.to_csv(\"to_submit_Apr_27.csv\", index=False)"
   ]
  },
  {
   "cell_type": "markdown",
   "metadata": {},
   "source": [
    "## Feature Importance Summary"
   ]
  },
  {
   "cell_type": "code",
   "execution_count": 10,
   "metadata": {
    "collapsed": true
   },
   "outputs": [],
   "source": [
    "feature_importance = pd.DataFrame({'weight':bst.get_score(importance_type='weight'),\n",
    "                                      'gain':bst.get_score(importance_type='gain')},\n",
    "                                    columns=['weight', 'gain'])"
   ]
  },
  {
   "cell_type": "code",
   "execution_count": 11,
   "metadata": {
    "collapsed": false
   },
   "outputs": [
    {
     "data": {
      "text/html": [
       "<div>\n",
       "<style>\n",
       "    .dataframe thead tr:only-child th {\n",
       "        text-align: right;\n",
       "    }\n",
       "\n",
       "    .dataframe thead th {\n",
       "        text-align: left;\n",
       "    }\n",
       "\n",
       "    .dataframe tbody tr th {\n",
       "        vertical-align: top;\n",
       "    }\n",
       "</style>\n",
       "<table border=\"1\" class=\"dataframe\">\n",
       "  <thead>\n",
       "    <tr style=\"text-align: right;\">\n",
       "      <th></th>\n",
       "      <th>weight</th>\n",
       "      <th>gain</th>\n",
       "    </tr>\n",
       "  </thead>\n",
       "  <tbody>\n",
       "    <tr>\n",
       "      <th>Euribor3m</th>\n",
       "      <td>1589</td>\n",
       "      <td>7.183052</td>\n",
       "    </tr>\n",
       "    <tr>\n",
       "      <th>Age</th>\n",
       "      <td>1524</td>\n",
       "      <td>3.350808</td>\n",
       "    </tr>\n",
       "    <tr>\n",
       "      <th>Job</th>\n",
       "      <td>849</td>\n",
       "      <td>3.487242</td>\n",
       "    </tr>\n",
       "    <tr>\n",
       "      <th>NoContacts_Current_Campaign</th>\n",
       "      <td>803</td>\n",
       "      <td>3.628028</td>\n",
       "    </tr>\n",
       "    <tr>\n",
       "      <th>Education_Level</th>\n",
       "      <td>704</td>\n",
       "      <td>3.431314</td>\n",
       "    </tr>\n",
       "    <tr>\n",
       "      <th>Contact_WeekDay</th>\n",
       "      <td>650</td>\n",
       "      <td>4.705276</td>\n",
       "    </tr>\n",
       "    <tr>\n",
       "      <th>Contact_Month</th>\n",
       "      <td>639</td>\n",
       "      <td>4.175492</td>\n",
       "    </tr>\n",
       "    <tr>\n",
       "      <th>Monthly_CCI</th>\n",
       "      <td>606</td>\n",
       "      <td>10.618265</td>\n",
       "    </tr>\n",
       "    <tr>\n",
       "      <th>Pdays</th>\n",
       "      <td>407</td>\n",
       "      <td>8.521599</td>\n",
       "    </tr>\n",
       "    <tr>\n",
       "      <th>Monthly_CPI</th>\n",
       "      <td>349</td>\n",
       "      <td>3.776362</td>\n",
       "    </tr>\n",
       "  </tbody>\n",
       "</table>\n",
       "</div>"
      ],
      "text/plain": [
       "                             weight       gain\n",
       "Euribor3m                      1589   7.183052\n",
       "Age                            1524   3.350808\n",
       "Job                             849   3.487242\n",
       "NoContacts_Current_Campaign     803   3.628028\n",
       "Education_Level                 704   3.431314\n",
       "Contact_WeekDay                 650   4.705276\n",
       "Contact_Month                   639   4.175492\n",
       "Monthly_CCI                     606  10.618265\n",
       "Pdays                           407   8.521599\n",
       "Monthly_CPI                     349   3.776362"
      ]
     },
     "execution_count": 11,
     "metadata": {},
     "output_type": "execute_result"
    },
    {
     "data": {
      "image/png": "[encoded data removed]",
      "text/plain": [
       "<matplotlib.figure.Figure at 0x116ec4650>"
      ]
     },
     "metadata": {},
     "output_type": "display_data"
    }
   ],
   "source": [
    "feature_importance.sort_values(\"weight\", inplace=True, ascending=False)\n",
    "\n",
    "plt.figure(figsize=(6,5))\n",
    "plt.barh(range(10), list(reversed(feature_importance.weight.head(10))))\n",
    "plt.yticks(range(10), list(reversed(feature_importance.index[:10])))\n",
    "plt.title(\"Top 10 Importance Features (Importance Type 'weight')\")\n",
    "\n",
    "feature_importance.head(10)"
   ]
  },
  {
   "cell_type": "code",
   "execution_count": 12,
   "metadata": {
    "collapsed": false
   },
   "outputs": [
    {
     "data": {
      "text/html": [
       "<div>\n",
       "<style>\n",
       "    .dataframe thead tr:only-child th {\n",
       "        text-align: right;\n",
       "    }\n",
       "\n",
       "    .dataframe thead th {\n",
       "        text-align: left;\n",
       "    }\n",
       "\n",
       "    .dataframe tbody tr th {\n",
       "        vertical-align: top;\n",
       "    }\n",
       "</style>\n",
       "<table border=\"1\" class=\"dataframe\">\n",
       "  <thead>\n",
       "    <tr style=\"text-align: right;\">\n",
       "      <th></th>\n",
       "      <th>weight</th>\n",
       "      <th>gain</th>\n",
       "    </tr>\n",
       "  </thead>\n",
       "  <tbody>\n",
       "    <tr>\n",
       "      <th>No_Employed</th>\n",
       "      <td>217</td>\n",
       "      <td>108.532030</td>\n",
       "    </tr>\n",
       "    <tr>\n",
       "      <th>Prev_Outcome</th>\n",
       "      <td>84</td>\n",
       "      <td>22.538321</td>\n",
       "    </tr>\n",
       "    <tr>\n",
       "      <th>Monthly_CCI</th>\n",
       "      <td>606</td>\n",
       "      <td>10.618265</td>\n",
       "    </tr>\n",
       "    <tr>\n",
       "      <th>Pdays</th>\n",
       "      <td>407</td>\n",
       "      <td>8.521599</td>\n",
       "    </tr>\n",
       "    <tr>\n",
       "      <th>Euribor3m</th>\n",
       "      <td>1589</td>\n",
       "      <td>7.183052</td>\n",
       "    </tr>\n",
       "    <tr>\n",
       "      <th>Emp_Var_Rate</th>\n",
       "      <td>182</td>\n",
       "      <td>6.222029</td>\n",
       "    </tr>\n",
       "    <tr>\n",
       "      <th>Contact_WeekDay</th>\n",
       "      <td>650</td>\n",
       "      <td>4.705276</td>\n",
       "    </tr>\n",
       "    <tr>\n",
       "      <th>Contact_Method</th>\n",
       "      <td>189</td>\n",
       "      <td>4.327922</td>\n",
       "    </tr>\n",
       "    <tr>\n",
       "      <th>Contact_Month</th>\n",
       "      <td>639</td>\n",
       "      <td>4.175492</td>\n",
       "    </tr>\n",
       "    <tr>\n",
       "      <th>Monthly_CPI</th>\n",
       "      <td>349</td>\n",
       "      <td>3.776362</td>\n",
       "    </tr>\n",
       "  </tbody>\n",
       "</table>\n",
       "</div>"
      ],
      "text/plain": [
       "                 weight        gain\n",
       "No_Employed         217  108.532030\n",
       "Prev_Outcome         84   22.538321\n",
       "Monthly_CCI         606   10.618265\n",
       "Pdays               407    8.521599\n",
       "Euribor3m          1589    7.183052\n",
       "Emp_Var_Rate        182    6.222029\n",
       "Contact_WeekDay     650    4.705276\n",
       "Contact_Method      189    4.327922\n",
       "Contact_Month       639    4.175492\n",
       "Monthly_CPI         349    3.776362"
      ]
     },
     "execution_count": 12,
     "metadata": {},
     "output_type": "execute_result"
    },
    {
     "data": {
      "image/png": "[encoded data removed]",
      "text/plain": [
       "<matplotlib.figure.Figure at 0x10bbad9d0>"
      ]
     },
     "metadata": {},
     "output_type": "display_data"
    }
   ],
   "source": [
    "feature_importance.sort_values(\"gain\", inplace=True, ascending=False)\n",
    "\n",
    "plt.figure(figsize=(6,5))\n",
    "plt.barh(range(10), list(reversed(feature_importance.gain.head(10))))\n",
    "plt.yticks(range(10), list(reversed(feature_importance.index[:10])))\n",
    "plt.title(\"Top 10 Importance Features (Importance Type 'gain')\")\n",
    "\n",
    "feature_importance.head(10)"
   ]
  }
 ],
 "metadata": {
  "kernelspec": {
   "display_name": "Python 2",
   "language": "python",
   "name": "python2"
  },
  "language_info": {
   "codemirror_mode": {
    "name": "ipython",
    "version": 2
   },
   "file_extension": ".py",
   "mimetype": "text/x-python",
   "name": "python",
   "nbconvert_exporter": "python",
   "pygments_lexer": "ipython2",
   "version": "2.7.13"
  }
 },
 "nbformat": 4,
 "nbformat_minor": 2
}
